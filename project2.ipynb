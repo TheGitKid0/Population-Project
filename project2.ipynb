{
 "cells": [
  {
   "cell_type": "code",
   "execution_count": 61,
   "metadata": {},
   "outputs": [
    {
     "data": {
      "text/plain": [
       "Text(0, 0.5, 'Population (Billions)')"
      ]
     },
     "execution_count": 61,
     "metadata": {},
     "output_type": "execute_result"
    },
    {
     "data": {
      "image/png": "[encoded data removed]",
      "text/plain": [
       "<Figure size 450x300 with 1 Axes>"
      ]
     },
     "metadata": {
      "needs_background": "light"
     },
     "output_type": "display_data"
    }
   ],
   "source": [
    "from population import *\n",
    "import matplotlib.pyplot as plt\n",
    "\n",
    "yrs1 = results2.keys()\n",
    "pops1 = results2.values\n",
    "\n",
    "plt.plot(yrs1, pops1)\n",
    "plt.xlabel(\"Year\")\n",
    "plt.ylabel(\"Population (Billions)\")"
   ]
  },
  {
   "cell_type": "markdown",
   "metadata": {},
   "source": [
    "As observed from the model, we see that Thanos has snapped the population of the world in half in the year 2025.\n",
    "\n",
    "(1) How long would it take the population to recover?\n",
    "\n",
    "We see from our simulation that the population starts recovering right after the snap. However, it is only around the year 2070 where the population catches up to that of the pre-snapped world. \n",
    "\n",
    "(2) How might carrying capacity and maximum growth rate (as parameters) be affected by such a change?\n",
    "\n",
    "We believe that with our model, the maximum growth/carrying capacity rate will not change because humaninity kept growing despite such a loss. \n"
   ]
  },
  {
   "cell_type": "code",
   "execution_count": 84,
   "metadata": {},
   "outputs": [
    {
     "ename": "NameError",
     "evalue": "name 'results2' is not defined",
     "output_type": "error",
     "traceback": [
      "\u001b[0;31m---------------------------------------------------------------------------\u001b[0m",
      "\u001b[0;31mNameError\u001b[0m                                 Traceback (most recent call last)",
      "Input \u001b[0;32mIn [84]\u001b[0m, in \u001b[0;36m<cell line: 2>\u001b[0;34m()\u001b[0m\n\u001b[1;32m      1\u001b[0m results\u001b[38;5;241m.\u001b[39mkeys()\n\u001b[0;32m----> 2\u001b[0m \u001b[43mresults2\u001b[49m\u001b[38;5;241m.\u001b[39mkeys()\n\u001b[1;32m      6\u001b[0m pops2 \u001b[38;5;241m=\u001b[39m results2\u001b[38;5;241m.\u001b[39mvalues\n\u001b[1;32m      8\u001b[0m plt\u001b[38;5;241m.\u001b[39mplot(yrs2, pops2)\n",
      "\u001b[0;31mNameError\u001b[0m: name 'results2' is not defined"
     ]
    }
   ],
   "source": [
    "results.keys()\n",
    "results2.keys()\n",
    "\n",
    "pops2 = results2.values\n",
    "\n",
    "plt.plot(yrs2, pops2)\n",
    "plt.xlabel(\"Year\")\n",
    "plt.ylabel(\"Population (Billions)\")"
   ]
  },
  {
   "cell_type": "markdown",
   "metadata": {},
   "source": [
    "Another method to reduce suffering that does not need to be the random death of half humanity can be a yearly snap that kills off old people above the age of 70. For this model to be completely accurate, we will need another source of data for number of people above 70, however at this point, we will represent this as arbitrarily 15% of the population being over 70 in a given year. "
   ]
  }
 ],
 "metadata": {
  "kernelspec": {
   "display_name": "SageMath 9.0",
   "language": "sage",
   "name": "sagemath"
  },
  "language_info": {
   "codemirror_mode": {
    "name": "ipython",
    "version": 3
   },
   "file_extension": ".py",
   "mimetype": "text/x-python",
   "name": "python",
   "nbconvert_exporter": "python",
   "pygments_lexer": "ipython3",
   "version": "3.8.10"
  }
 },
 "nbformat": 4,
 "nbformat_minor": 2
}
